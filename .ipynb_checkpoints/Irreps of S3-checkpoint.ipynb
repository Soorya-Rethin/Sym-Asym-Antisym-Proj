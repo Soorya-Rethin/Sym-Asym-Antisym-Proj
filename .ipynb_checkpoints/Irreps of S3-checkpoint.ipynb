{
 "cells": [
  {
   "cell_type": "code",
   "execution_count": 1,
   "id": "0d4be473",
   "metadata": {},
   "outputs": [],
   "source": [
    "'''\n",
    "Import standard libraries.\n",
    "'''\n",
    "import math\n",
    "import random\n",
    "import numpy as np\n",
    "from itertools import product\n",
    "\n",
    "from qiskit import *\n",
    "\n",
    "# Importing standard Qiskit libraries\n",
    "from qiskit.tools.jupyter import *\n",
    "from qiskit.visualization import *\n",
    "from qiskit.providers.aer import QasmSimulator\n",
    "\n",
    "from qiskit.primitives import Sampler as prim_Sampler\n",
    "from qiskit.quantum_info import Statevector\n",
    "from qiskit.circuit.random import random_circuit\n",
    "from qiskit.circuit.library.standard_gates import XGate\n",
    "\n",
    "from qiskit.providers.aer.noise import NoiseModel\n",
    "from qiskit.quantum_info import DensityMatrix\n",
    "\n",
    "# Loading your IBM Quantum account(s)\n",
    "#provider = IBMQ.load_account()"
   ]
  },
  {
   "cell_type": "code",
   "execution_count": 11,
   "id": "b0da17b4",
   "metadata": {},
   "outputs": [],
   "source": [
    "def M(p, q):\n",
    "    '''\n",
    "    Unitary used to realize A(j).\n",
    "    '''\n",
    "    theta = 2*np.arctan(np.sqrt(q/p))\n",
    "    qc = QuantumCircuit(1)\n",
    "    qc.ry(theta, [0])\n",
    "    return qc.to_gate()"
   ]
  },
  {
   "cell_type": "code",
   "execution_count": 12,
   "id": "2f719171",
   "metadata": {},
   "outputs": [],
   "source": [
    "def cM(p, q):\n",
    "    '''\n",
    "    Controlled version of M(p, q).\n",
    "    '''\n",
    "    return M(p, q).control()"
   ]
  },
  {
   "cell_type": "code",
   "execution_count": 13,
   "id": "48bee47c",
   "metadata": {},
   "outputs": [],
   "source": [
    "def A(j):\n",
    "    '''\n",
    "    Unitary that prepares the state given in Equation~(12) from the paper.\n",
    "    The (j-1)-qubit state is an equal superposition of the all-zeros state and \n",
    "    the set of computational basis state with a one in the ith position and zeros everywhere else.\n",
    "    '''\n",
    "    qc = QuantumCircuit(j-1)\n",
    "    qc.append(M(1, j-1), [0])\n",
    "    for i in range(j-2):\n",
    "        qc.append(cM(1, j-2-i), [i, i+1])\n",
    "    for i in range(j-2):\n",
    "        qc.cx(i+1, i)\n",
    "    return qc.to_gate()"
   ]
  },
  {
   "cell_type": "code",
   "execution_count": 14,
   "id": "74d7f346",
   "metadata": {},
   "outputs": [],
   "source": [
    "def createCSWAP_Train(k):\n",
    "    '''\n",
    "    Create the train of CSWAP gates for the algorithm.\n",
    "    '''\n",
    "    circ = QuantumCircuit(k*(k-1)/2 + k)\n",
    "    control_qubit = int(k*(k-1)/2 - 1)\n",
    "    startState = control_qubit\n",
    "    \n",
    "    for j in range(2, k+1):\n",
    "        for i in range(j-1):\n",
    "            circ.cswap(control_qubit, startState+j-i-1, startState+j)\n",
    "            control_qubit -= 1\n",
    "    return circ"
   ]
  },
  {
   "cell_type": "code",
   "execution_count": 20,
   "id": "aa3022ff",
   "metadata": {},
   "outputs": [],
   "source": [
    "def createQuantumCircuit(state):\n",
    "    '''\n",
    "    Creates quantum circuit to test for three irreps of S_3.\n",
    "    Circuit uses the SWAP representation.\n",
    "    Refer to Section 3D1.\n",
    "    '''\n",
    "    circ = QuantumCircuit(8, 2)\n",
    "    \n",
    "    #Control register.\n",
    "    P = QuantumCircuit(3)\n",
    "    P.append(A(3), [0, 1])\n",
    "    P.append(A(2), [2])\n",
    "    circ = circ.compose(P, [2, 3, 4])\n",
    "    \n",
    "    #Append the state preparation unitaries.\n",
    "    circ.append(state, [5, 6, 7])\n",
    "    \n",
    "    #Add the controlled SWAP gates.\n",
    "    circ.barrier()\n",
    "    circ = circ.compose(createCSWAP_Train(3), [2, 3, 4, 5, 6, 7])\n",
    "    circ.barrier()\n",
    "    \n",
    "    #Adding the + controlled NOT.\n",
    "    circ = circ.compose(P.inverse(), [2, 3, 4])\n",
    "    circ.x([2, 3, 4])\n",
    "    circ = circ.compose(XGate().control(3), [2, 3, 4, 1])\n",
    "    circ.x([2, 3, 4])\n",
    "    circ = circ.compose(P, [2, 3, 4])\n",
    "    \n",
    "    #Adding the - controlled NOT.\n",
    "    circ.z([2, 3, 4])\n",
    "    circ = circ.compose(P.inverse(), [2, 3, 4])\n",
    "    circ.x([2, 3, 4])\n",
    "    circ = circ.compose(XGate().control(3), [2, 3, 4, 0])\n",
    "    circ.x([2, 3, 4])\n",
    "    circ = circ.compose(P, [2, 3, 4])\n",
    "    circ.z([2, 3, 4])\n",
    "\n",
    "    #Add the controlled SWAP gates.\n",
    "    circ.barrier()\n",
    "    circ = circ.compose(createCSWAP_Train(3).inverse(), [2, 3, 4, 5, 6, 7])\n",
    "    circ.barrier()\n",
    "\n",
    "    circ.measure([0, 1], [0, 1])\n",
    "    return circ"
   ]
  },
  {
   "cell_type": "code",
   "execution_count": 28,
   "id": "65b309c0",
   "metadata": {},
   "outputs": [
    {
     "data": {
      "image/png": "[encoded data removed]",
      "text/plain": [
       "<Figure size 538.33x284.278 with 1 Axes>"
      ]
     },
     "execution_count": 28,
     "metadata": {},
     "output_type": "execute_result"
    }
   ],
   "source": [
    "state = random_circuit(3, 3)\n",
    "state.draw('mpl')"
   ]
  },
  {
   "cell_type": "code",
   "execution_count": 29,
   "id": "ac16454d",
   "metadata": {},
   "outputs": [
    {
     "data": {
      "text/html": [
       "<pre style=\"word-wrap: normal;white-space: pre;background: #fff0;line-height: 1.1;font-family: &quot;Courier New&quot;,Courier,monospace\">                      ░           ░                                   »\n",
       "q_0: ─────────────────░───────────░───────────────────────────────────»\n",
       "                      ░           ░                         ┌───┐     »\n",
       "q_1: ─────────────────░───────────░─────────────────────────┤ X ├─────»\n",
       "     ┌──────────────┐ ░           ░ ┌─────────────────┐┌───┐└─┬─┘┌───┐»\n",
       "q_2: ┤0             ├─░────────■──░─┤0                ├┤ X ├──■──┤ X ├»\n",
       "     │  circuit-279 │ ░        │  ░ │  circuit-279_dg │├───┤  │  ├───┤»\n",
       "q_3: ┤1             ├─░─────■──┼──░─┤1                ├┤ X ├──■──┤ X ├»\n",
       "     ├─────────────┬┘ ░     │  │  ░ └┬────────────────┤├───┤  │  ├───┤»\n",
       "q_4: ┤ circuit-293 ├──░──■──┼──┼──░──┤ circuit-293_dg ├┤ X ├──■──┤ X ├»\n",
       "     ├─────────────┴┐ ░  │  │  │  ░  └────────────────┘└───┘     └───┘»\n",
       "q_5: ┤0             ├─░──X──┼──X──░───────────────────────────────────»\n",
       "     │              │ ░  │  │  │  ░                                   »\n",
       "q_6: ┤1 circuit-276 ├─░──X──X──┼──░───────────────────────────────────»\n",
       "     │              │ ░     │  │  ░                                   »\n",
       "q_7: ┤2             ├─░─────X──X──░───────────────────────────────────»\n",
       "     └──────────────┘ ░           ░                                   »\n",
       "c: 2/═════════════════════════════════════════════════════════════════»\n",
       "                                                                      »\n",
       "«                                                  ┌───┐                     »\n",
       "«q_0: ─────────────────────────────────────────────┤ X ├─────────────────────»\n",
       "«                                                  └─┬─┘                     »\n",
       "«q_1: ───────────────────────────────────────────────┼───────────────────────»\n",
       "«     ┌──────────────┐┌───┐┌─────────────────┐┌───┐  │  ┌───┐┌──────────────┐»\n",
       "«q_2: ┤0             ├┤ Z ├┤0                ├┤ X ├──■──┤ X ├┤0             ├»\n",
       "«     │  circuit-279 │├───┤│  circuit-279_dg │├───┤  │  ├───┤│  circuit-279 │»\n",
       "«q_3: ┤1             ├┤ Z ├┤1                ├┤ X ├──■──┤ X ├┤1             ├»\n",
       "«     ├─────────────┬┘├───┤└┬────────────────┤├───┤  │  ├───┤├─────────────┬┘»\n",
       "«q_4: ┤ circuit-293 ├─┤ Z ├─┤ circuit-293_dg ├┤ X ├──■──┤ X ├┤ circuit-293 ├─»\n",
       "«     └─────────────┘ └───┘ └────────────────┘└───┘     └───┘└─────────────┘ »\n",
       "«q_5: ───────────────────────────────────────────────────────────────────────»\n",
       "«                                                                            »\n",
       "«q_6: ───────────────────────────────────────────────────────────────────────»\n",
       "«                                                                            »\n",
       "«q_7: ───────────────────────────────────────────────────────────────────────»\n",
       "«                                                                            »\n",
       "«c: 2/═══════════════════════════════════════════════════════════════════════»\n",
       "«                                                                            »\n",
       "«           ░           ░ ┌─┐   \n",
       "«q_0: ──────░───────────░─┤M├───\n",
       "«           ░           ░ └╥┘┌─┐\n",
       "«q_1: ──────░───────────░──╫─┤M├\n",
       "«     ┌───┐ ░           ░  ║ └╥┘\n",
       "«q_2: ┤ Z ├─░──■────────░──╫──╫─\n",
       "«     ├───┤ ░  │        ░  ║  ║ \n",
       "«q_3: ┤ Z ├─░──┼──■─────░──╫──╫─\n",
       "«     ├───┤ ░  │  │     ░  ║  ║ \n",
       "«q_4: ┤ Z ├─░──┼──┼──■──░──╫──╫─\n",
       "«     └───┘ ░  │  │  │  ░  ║  ║ \n",
       "«q_5: ──────░──X──┼──X──░──╫──╫─\n",
       "«           ░  │  │  │  ░  ║  ║ \n",
       "«q_6: ──────░──┼──X──X──░──╫──╫─\n",
       "«           ░  │  │     ░  ║  ║ \n",
       "«q_7: ──────░──X──X─────░──╫──╫─\n",
       "«           ░           ░  ║  ║ \n",
       "«c: 2/═════════════════════╩══╩═\n",
       "«                          0  1 </pre>"
      ],
      "text/plain": [
       "                      ░           ░                                   »\n",
       "q_0: ─────────────────░───────────░───────────────────────────────────»\n",
       "                      ░           ░                         ┌───┐     »\n",
       "q_1: ─────────────────░───────────░─────────────────────────┤ X ├─────»\n",
       "     ┌──────────────┐ ░           ░ ┌─────────────────┐┌───┐└─┬─┘┌───┐»\n",
       "q_2: ┤0             ├─░────────■──░─┤0                ├┤ X ├──■──┤ X ├»\n",
       "     │  circuit-279 │ ░        │  ░ │  circuit-279_dg │├───┤  │  ├───┤»\n",
       "q_3: ┤1             ├─░─────■──┼──░─┤1                ├┤ X ├──■──┤ X ├»\n",
       "     ├─────────────┬┘ ░     │  │  ░ └┬────────────────┤├───┤  │  ├───┤»\n",
       "q_4: ┤ circuit-293 ├──░──■──┼──┼──░──┤ circuit-293_dg ├┤ X ├──■──┤ X ├»\n",
       "     ├─────────────┴┐ ░  │  │  │  ░  └────────────────┘└───┘     └───┘»\n",
       "q_5: ┤0             ├─░──X──┼──X──░───────────────────────────────────»\n",
       "     │              │ ░  │  │  │  ░                                   »\n",
       "q_6: ┤1 circuit-276 ├─░──X──X──┼──░───────────────────────────────────»\n",
       "     │              │ ░     │  │  ░                                   »\n",
       "q_7: ┤2             ├─░─────X──X──░───────────────────────────────────»\n",
       "     └──────────────┘ ░           ░                                   »\n",
       "c: 2/═════════════════════════════════════════════════════════════════»\n",
       "                                                                      »\n",
       "«                                                  ┌───┐                     »\n",
       "«q_0: ─────────────────────────────────────────────┤ X ├─────────────────────»\n",
       "«                                                  └─┬─┘                     »\n",
       "«q_1: ───────────────────────────────────────────────┼───────────────────────»\n",
       "«     ┌──────────────┐┌───┐┌─────────────────┐┌───┐  │  ┌───┐┌──────────────┐»\n",
       "«q_2: ┤0             ├┤ Z ├┤0                ├┤ X ├──■──┤ X ├┤0             ├»\n",
       "«     │  circuit-279 │├───┤│  circuit-279_dg │├───┤  │  ├───┤│  circuit-279 │»\n",
       "«q_3: ┤1             ├┤ Z ├┤1                ├┤ X ├──■──┤ X ├┤1             ├»\n",
       "«     ├─────────────┬┘├───┤└┬────────────────┤├───┤  │  ├───┤├─────────────┬┘»\n",
       "«q_4: ┤ circuit-293 ├─┤ Z ├─┤ circuit-293_dg ├┤ X ├──■──┤ X ├┤ circuit-293 ├─»\n",
       "«     └─────────────┘ └───┘ └────────────────┘└───┘     └───┘└─────────────┘ »\n",
       "«q_5: ───────────────────────────────────────────────────────────────────────»\n",
       "«                                                                            »\n",
       "«q_6: ───────────────────────────────────────────────────────────────────────»\n",
       "«                                                                            »\n",
       "«q_7: ───────────────────────────────────────────────────────────────────────»\n",
       "«                                                                            »\n",
       "«c: 2/═══════════════════════════════════════════════════════════════════════»\n",
       "«                                                                            »\n",
       "«           ░           ░ ┌─┐   \n",
       "«q_0: ──────░───────────░─┤M├───\n",
       "«           ░           ░ └╥┘┌─┐\n",
       "«q_1: ──────░───────────░──╫─┤M├\n",
       "«     ┌───┐ ░           ░  ║ └╥┘\n",
       "«q_2: ┤ Z ├─░──■────────░──╫──╫─\n",
       "«     ├───┤ ░  │        ░  ║  ║ \n",
       "«q_3: ┤ Z ├─░──┼──■─────░──╫──╫─\n",
       "«     ├───┤ ░  │  │     ░  ║  ║ \n",
       "«q_4: ┤ Z ├─░──┼──┼──■──░──╫──╫─\n",
       "«     └───┘ ░  │  │  │  ░  ║  ║ \n",
       "«q_5: ──────░──X──┼──X──░──╫──╫─\n",
       "«           ░  │  │  │  ░  ║  ║ \n",
       "«q_6: ──────░──┼──X──X──░──╫──╫─\n",
       "«           ░  │  │     ░  ║  ║ \n",
       "«q_7: ──────░──X──X─────░──╫──╫─\n",
       "«           ░           ░  ║  ║ \n",
       "«c: 2/═════════════════════╩══╩═\n",
       "«                          0  1 "
      ]
     },
     "execution_count": 29,
     "metadata": {},
     "output_type": "execute_result"
    }
   ],
   "source": [
    "qCirc = createQuantumCircuit(state)\n",
    "qCirc.draw()"
   ]
  },
  {
   "cell_type": "code",
   "execution_count": 33,
   "id": "bfc62040",
   "metadata": {},
   "outputs": [],
   "source": [
    "#Find probability distribution of measurement outcomes.\n",
    "sampler = prim_Sampler()\n",
    "dic = sampler.run(qCirc.reverse_bits()).result().quasi_dists[0]"
   ]
  },
  {
   "cell_type": "code",
   "execution_count": 35,
   "id": "14543ac5",
   "metadata": {},
   "outputs": [],
   "source": [
    "#Find statevector of input state.\n",
    "backend = Aer.get_backend('statevector_simulator')\n",
    "psi = np.asarray(execute(state.reverse_bits(), backend).result().get_statevector())"
   ]
  },
  {
   "cell_type": "code",
   "execution_count": 36,
   "id": "70fc1768",
   "metadata": {},
   "outputs": [],
   "source": [
    "'''\n",
    "Define matrix representations of required gates.\n",
    "'''\n",
    "I = np.array([[1, 0], [0, 1]])\n",
    "SWAP = np.array([[1, 0, 0, 0], [0, 0, 1, 0], [0, 1, 0, 0], [0, 0, 0, 1]])\n",
    "S12 = np.kron(SWAP, I)\n",
    "S23 = np.kron(I, SWAP)\n",
    "S13 = np.array([[1,0,0,0,0,0,0,0], [0,0,0,0,1,0,0,0], [0,0,1,0,0,0,0,0], [0,0,0,0,0,0,1,0], \n",
    "                [0,1,0,0,0,0,0,0], [0,0,0,0,0,1,0,0], [0,0,0,1,0,0,0,0], [0,0,0,0,0,0,0,1]])\n",
    "S23S12 = np.matmul(S23, S12)\n",
    "S13S12 = np.matmul(S13, S12)"
   ]
  },
  {
   "cell_type": "code",
   "execution_count": 37,
   "id": "624b3a0c",
   "metadata": {},
   "outputs": [],
   "source": [
    "'''\n",
    "Create list of group elements.\n",
    "'''\n",
    "lis = []\n",
    "lis.append(np.kron(np.kron(I, I), I))\n",
    "lis.append(S23S12)\n",
    "lis.append(S13S12)\n",
    "lis.append(S12) \n",
    "lis.append(S23)\n",
    "lis.append(S13)"
   ]
  },
  {
   "cell_type": "code",
   "execution_count": 38,
   "id": "3eb8c81c",
   "metadata": {},
   "outputs": [],
   "source": [
    "'''\n",
    "Create group projector.\n",
    "'''\n",
    "Pi_SR = np.zeros(S12.shape)\n",
    "for item in lis:\n",
    "    Pi_SR += (1/6)*item"
   ]
  },
  {
   "cell_type": "code",
   "execution_count": 39,
   "id": "82e6c61e",
   "metadata": {},
   "outputs": [],
   "source": [
    "'''\n",
    "Create group anti projector.\n",
    "'''\n",
    "anti_Pi_SR = np.zeros(S12.shape)\n",
    "for i in range(len(lis)):\n",
    "    if (i<3):\n",
    "        anti_Pi_SR += (1/6)*lis[i]\n",
    "    else:\n",
    "        anti_Pi_SR -= (1/6)*lis[i]"
   ]
  },
  {
   "cell_type": "code",
   "execution_count": 42,
   "id": "9b014364",
   "metadata": {},
   "outputs": [],
   "source": [
    "#Create true probability distribution for the given input state.\n",
    "true_dic = {0: np.linalg.norm(np.matmul((np.kron(np.kron(I, I), I) - Pi_SR - anti_Pi_SR), psi))**2, \n",
    "            1: np.linalg.norm(np.matmul(anti_Pi_SR, psi))**2,\n",
    "            2: np.linalg.norm(np.matmul(Pi_SR, psi))**2,\n",
    "            3: 0}"
   ]
  },
  {
   "cell_type": "code",
   "execution_count": 43,
   "id": "ba89c51e",
   "metadata": {},
   "outputs": [
    {
     "data": {
      "text/plain": [
       "{0: 0.502409410670996, 1: 0.497590589329003}"
      ]
     },
     "execution_count": 43,
     "metadata": {},
     "output_type": "execute_result"
    }
   ],
   "source": [
    "dic"
   ]
  },
  {
   "cell_type": "code",
   "execution_count": 44,
   "id": "756a682d",
   "metadata": {},
   "outputs": [
    {
     "data": {
      "text/plain": [
       "{0: 0.5024094106709966, 1: 7.278571778936892e-34, 2: 0.4975905893290033, 3: 0}"
      ]
     },
     "execution_count": 44,
     "metadata": {},
     "output_type": "execute_result"
    }
   ],
   "source": [
    "true_dic"
   ]
  },
  {
   "cell_type": "code",
   "execution_count": null,
   "id": "b1a0c87e",
   "metadata": {},
   "outputs": [],
   "source": []
  }
 ],
 "metadata": {
  "kernelspec": {
   "display_name": "Python 3",
   "language": "python",
   "name": "python3"
  },
  "language_info": {
   "codemirror_mode": {
    "name": "ipython",
    "version": 3
   },
   "file_extension": ".py",
   "mimetype": "text/x-python",
   "name": "python",
   "nbconvert_exporter": "python",
   "pygments_lexer": "ipython3",
   "version": "3.9.6"
  }
 },
 "nbformat": 4,
 "nbformat_minor": 5
}
