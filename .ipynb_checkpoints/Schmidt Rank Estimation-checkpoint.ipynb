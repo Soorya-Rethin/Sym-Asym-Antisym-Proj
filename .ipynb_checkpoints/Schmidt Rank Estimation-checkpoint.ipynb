{
 "cells": [
  {
   "cell_type": "code",
   "execution_count": 1,
   "id": "0d4be473",
   "metadata": {},
   "outputs": [],
   "source": [
    "'''\n",
    "Import standard libraries.\n",
    "'''\n",
    "import math\n",
    "import random\n",
    "import numpy as np\n",
    "from itertools import product\n",
    "\n",
    "from qiskit import *\n",
    "\n",
    "# Importing standard Qiskit libraries\n",
    "from qiskit.tools.jupyter import *\n",
    "from qiskit.visualization import *\n",
    "from qiskit.providers.aer import QasmSimulator\n",
    "\n",
    "from collections import defaultdict\n",
    "from qiskit.visualization import plot_histogram\n",
    "\n",
    "\n",
    "from qiskit_ibm_runtime import QiskitRuntimeService\n",
    "\n",
    "from qiskit.utils import QuantumInstance\n",
    "from qiskit.providers.ibmq import least_busy\n",
    "\n",
    "from qiskit.circuit.random import random_circuit\n",
    "from qiskit_ibm_runtime.fake_provider import FakeWashingtonV2\n",
    "\n",
    "from qiskit.primitives import Sampler as prim_Sampler\n",
    "from qiskit_ibm_runtime import Sampler as run_Sampler\n",
    "from qiskit_ibm_runtime import Session, Options\n",
    "\n",
    "from qiskit.providers.aer.noise import NoiseModel\n",
    "\n",
    "# Loading your IBM Quantum account(s)\n",
    "#provider = IBMQ.load_account()"
   ]
  },
  {
   "cell_type": "code",
   "execution_count": 2,
   "id": "beafe371",
   "metadata": {},
   "outputs": [
    {
     "data": {
      "text/plain": [
       "'\\nservice = QiskitRuntimeService()\\nservice.backends()\\n'"
      ]
     },
     "execution_count": 2,
     "metadata": {},
     "output_type": "execute_result"
    }
   ],
   "source": [
    "#Use QiskitRuntimeService() to get IBMQ backends.\n",
    "'''\n",
    "service = QiskitRuntimeService()\n",
    "service.backends()\n",
    "'''"
   ]
  },
  {
   "cell_type": "code",
   "execution_count": 5,
   "id": "b0da17b4",
   "metadata": {},
   "outputs": [],
   "source": [
    "def M(p, q):\n",
    "    '''\n",
    "    Unitary used to realize A(j).\n",
    "    '''\n",
    "    theta = 2*np.arctan(np.sqrt(q/p))\n",
    "    qc = QuantumCircuit(1)\n",
    "    qc.ry(theta, [0])\n",
    "    return qc.to_gate()"
   ]
  },
  {
   "cell_type": "code",
   "execution_count": 6,
   "id": "2f719171",
   "metadata": {},
   "outputs": [],
   "source": [
    "def cM(p, q):\n",
    "    '''\n",
    "    Controlled version of M(p, q).\n",
    "    '''\n",
    "    return M(p, q).control()"
   ]
  },
  {
   "cell_type": "code",
   "execution_count": 7,
   "id": "48bee47c",
   "metadata": {},
   "outputs": [],
   "source": [
    "def A(j):\n",
    "    '''\n",
    "    Unitary that prepares the state given in Equation~(12) from the paper.\n",
    "    The (j-1)-qubit state is an equal superposition of the all-zeros state and \n",
    "    the set of computational basis state with a one in the ith position and zeros everywhere else.\n",
    "    '''\n",
    "    qc = QuantumCircuit(j-1)\n",
    "    qc.append(M(1, j-1), [0])\n",
    "    for i in range(j-2):\n",
    "        qc.append(cM(1, j-2-i), [i, i+1])\n",
    "    for i in range(j-2):\n",
    "        qc.cx(i+1, i)\n",
    "    return qc"
   ]
  },
  {
   "cell_type": "code",
   "execution_count": 8,
   "id": "785415fd",
   "metadata": {},
   "outputs": [],
   "source": [
    "def createControlUnitary(k):\n",
    "    '''\n",
    "    Create list of preparation unitaries for the control register.\n",
    "    '''\n",
    "    Alist = []\n",
    "    for i in range(k-1):\n",
    "        Alist.append(A(k-i))\n",
    "    return Alist"
   ]
  },
  {
   "cell_type": "code",
   "execution_count": 9,
   "id": "b87326b5",
   "metadata": {},
   "outputs": [],
   "source": [
    "def createW(n):\n",
    "    '''\n",
    "    Create n-qubit W state.\n",
    "    '''\n",
    "    temp = QuantumCircuit(n)\n",
    "    temp.ry(2*np.arccos(1/np.sqrt(n)), 0)\n",
    "    for i in range(n-2):\n",
    "        temp.ch(i, i+1)\n",
    "    for i in range(n-1):\n",
    "        temp.cx(n-i-2, n-i-1)\n",
    "    temp.x(0)\n",
    "    return temp"
   ]
  },
  {
   "cell_type": "code",
   "execution_count": 10,
   "id": "e155bd65",
   "metadata": {},
   "outputs": [],
   "source": [
    "def createCNOT_Train(r, sizReg):\n",
    "    '''\n",
    "    Create the train of CSWAP gates for the algorithm.\n",
    "    Refer to Section 4A.\n",
    "    '''\n",
    "    circ = QuantumCircuit(r*(r-1)/2 + sizReg*r)\n",
    "    control_qubit = int(r*(r-1)/2 - 1)\n",
    "    startState = control_qubit\n",
    "    \n",
    "    for j in range(1, r):\n",
    "        for i in range(j):\n",
    "            for l in range(sizReg):\n",
    "                circ.cswap(control_qubit, startState+sizReg*(j-i)-(sizReg-1)+l, startState+sizReg*(j+1)-(sizReg-1)+l)\n",
    "            control_qubit -= 1\n",
    "    return circ"
   ]
  },
  {
   "cell_type": "code",
   "execution_count": 11,
   "id": "63826a7b",
   "metadata": {},
   "outputs": [],
   "source": [
    "def createQuantumCirc(state, sizA, sizB, r):\n",
    "    '''\n",
    "    Creates quantum circuit to check if the Schmidt Rank of the input state across the \n",
    "    (sizA : sizB) bipartition is less than or equal to r.\n",
    "    Refer to Section 4A.\n",
    "    '''\n",
    "    sysSize = sizA + sizB\n",
    "    ctrlRegSize = r*(r+1)\n",
    "    \n",
    "    qCirc = QuantumCircuit(ctrlRegSize + (r+1)*sysSize, ctrlRegSize)\n",
    "    \n",
    "    ACtrlRegs = list(range(0, int(ctrlRegSize/2)))\n",
    "    BCtrlRegs = list(range(int(ctrlRegSize/2), ctrlRegSize))\n",
    "        \n",
    "    Aregs = []\n",
    "    Bregs = []\n",
    "    \n",
    "    startPos = ctrlRegSize\n",
    "    for i in range(r+1):\n",
    "        qCirc.append(state, range(startPos + i*sysSize, startPos + (i+1)*sysSize))\n",
    "        Aregs += (list(range(startPos + i*sysSize, startPos + i*sysSize + sizA)))\n",
    "        Bregs += (list(range(startPos + i*sysSize + sizA, startPos + i*sysSize + sizA + sizB)))\n",
    "                         \n",
    "    ctrlUnitaryList = createControlUnitary(r+1)\n",
    "    startPos = 0\n",
    "    for item in ctrlUnitaryList:\n",
    "        qCirc.append(item, range(startPos, startPos+item.num_qubits))\n",
    "        startPos += item.num_qubits\n",
    "    for item in ctrlUnitaryList:\n",
    "        qCirc.append(item, range(startPos, startPos+item.num_qubits))\n",
    "        startPos += item.num_qubits\n",
    "    \n",
    "    qCirc = qCirc.compose(createCNOT_Train(r+1, sizB), BCtrlRegs+ Bregs)\n",
    "    qCirc.barrier()\n",
    "    qCirc = qCirc.compose(createCNOT_Train(r+1, sizA), ACtrlRegs+ Aregs)\n",
    "    qCirc.barrier()\n",
    "    \n",
    "    qCirc.z(range(ctrlRegSize))\n",
    "    \n",
    "    startPos = 0\n",
    "    for item in ctrlUnitaryList:\n",
    "        qCirc.append(item.inverse(), range(startPos, startPos+item.num_qubits))\n",
    "        startPos += item.num_qubits\n",
    "    for item in ctrlUnitaryList:\n",
    "        qCirc.append(item.inverse(), range(startPos, startPos+item.num_qubits))\n",
    "        startPos += item.num_qubits\n",
    "        \n",
    "    qCirc.measure(range(ctrlRegSize), range(ctrlRegSize))\n",
    "    \n",
    "    return qCirc"
   ]
  },
  {
   "cell_type": "code",
   "execution_count": 14,
   "id": "607e7433",
   "metadata": {},
   "outputs": [],
   "source": [
    "def getAccProb(state, sizA, sizB, r):\n",
    "    '''\n",
    "    Get the acceptance probabilities for the problem using a noiseless sampler.\n",
    "    Prints if the Schmidt rank <=r and returns the probability of measuring the all-zeros state.\n",
    "    '''\n",
    "    circ = createQuantumCirc(state, sizA, sizB, r)\n",
    "    print(\"Size of circuit is :\", circ.num_qubits)\n",
    "    sampler = prim_Sampler()\n",
    "    dic = sampler.run(circ).result().quasi_dists[0]\n",
    "    print(dic)\n",
    "    if (0 not in dic):\n",
    "        print(\"Schmidt Rank <= \" + str(r))\n",
    "        return 0.0\n",
    "    elif dic[0] == 0.0:\n",
    "        print(\"Schmidt Rank <= \" + str(r))\n",
    "        return dic[0]\n",
    "    else:\n",
    "        print(\"Schmidt Rank > \" + str(r))\n",
    "        return dic[0]"
   ]
  },
  {
   "cell_type": "code",
   "execution_count": 16,
   "id": "7363c1eb",
   "metadata": {},
   "outputs": [
    {
     "name": "stdout",
     "output_type": "stream",
     "text": [
      "     ┌───┐     \n",
      "q_0: ┤ H ├──■──\n",
      "     └───┘┌─┴─┐\n",
      "q_1: ─────┤ X ├\n",
      "     ┌───┐└───┘\n",
      "q_2: ┤ H ├──■──\n",
      "     └───┘┌─┴─┐\n",
      "q_3: ─────┤ X ├\n",
      "          └───┘\n",
      "Size of circuit is : 10\n",
      "{3: 1.0}\n",
      "Schmidt Rank <= 1\n"
     ]
    },
    {
     "data": {
      "text/plain": [
       "0.0"
      ]
     },
     "execution_count": 16,
     "metadata": {},
     "output_type": "execute_result"
    }
   ],
   "source": [
    "state = QuantumCircuit(4)\n",
    "state.h(0)\n",
    "state.cx(0, 1)\n",
    "state.h(2)\n",
    "state.cx(2, 3)\n",
    "print(state.draw('text'))\n",
    "getAccProb(state, 2, 2, 1)"
   ]
  },
  {
   "cell_type": "code",
   "execution_count": 17,
   "id": "014e185a",
   "metadata": {},
   "outputs": [],
   "source": [
    "def measOutcomes(qCirc, shots, choice = 0):\n",
    "    '''\n",
    "    Calculates the expectation value.\n",
    "    '''\n",
    "    if choice == 0: \n",
    "        #Noiseless Simulation\n",
    "        sampler = prim_Sampler()\n",
    "        job = sampler.run(qCirc)\n",
    "        \n",
    "    elif choice == 1:\n",
    "        sampler = prim_Sampler()\n",
    "        job = sampler.run(qCirc, shots = shots)\n",
    "        \n",
    "    elif choice == 2:\n",
    "        fake_backend = FakeWashingtonV2()\n",
    "        noise_model = NoiseModel.from_backend(fake_backend)\n",
    "        options = Options()\n",
    "        options.simulator = {\n",
    "            \"noise_model\": noise_model,\n",
    "            \"seed_simulator\": 42\n",
    "        }\n",
    "        options.optimization_level = 3\n",
    "        options.resilience_level = 1\n",
    "        \n",
    "        sampler = run_Sampler(session=session1, options=options)\n",
    "        job = sampler.run(qCirc, shots=shots)\n",
    "        \n",
    "    elif choice == 3:\n",
    "        options = Options(optimization_level=3, resilience_level=1)\n",
    "        sampler = run_Sampler(session=session2, options=options)\n",
    "        job = sampler.run(qCirc, shots=shots)\n",
    "\n",
    "    return job"
   ]
  },
  {
   "cell_type": "code",
   "execution_count": 27,
   "id": "774a022b",
   "metadata": {},
   "outputs": [
    {
     "name": "stdout",
     "output_type": "stream",
     "text": [
      "<IBMBackend('ibm_osaka')>\n"
     ]
    }
   ],
   "source": [
    "LB = least_busy(service.backends(filters=lambda x: x.configuration().n_qubits >= 20 and not x.configuration().simulator))\n",
    "print(LB)\n",
    "\n",
    "session1 = Session(service=service, backend=\"ibmq_qasm_simulator\")\n",
    "session2 = Session(service=service, backend=LB.name)"
   ]
  },
  {
   "cell_type": "code",
   "execution_count": 28,
   "id": "956b53f5",
   "metadata": {},
   "outputs": [],
   "source": [
    "def writeToFile(filename, qt_back_name, qasm, lis_exp):\n",
    "    '''\n",
    "    Write the data to a text file to be used to plot the data. The format is as follows:\n",
    "        1. QASM description of state preparation unitary\n",
    "        2. dic_noiseless\n",
    "        3. dic_shot_noise\n",
    "        4. dic_noisy_sim\n",
    "        5. dic_quantum\n",
    "    '''\n",
    "    file = open(filename, \"w+\")\n",
    "    file.write(qasm)\n",
    "    for i in range(len(lis_exp)):\n",
    "        file.write(str(lis_exp[i]) + \"\\n\")\n",
    "    file.write(qt_back_name+\"\\n\")\n",
    "    file.close()"
   ]
  },
  {
   "cell_type": "code",
   "execution_count": 29,
   "id": "df9e3395",
   "metadata": {},
   "outputs": [],
   "source": [
    "def populate_dicts(data_experiments):\n",
    "    for i in range(len(data_experiments)):\n",
    "        if (str(type(data_experiments[i][2])) == \"<class 'qiskit_ibm_runtime.runtime_job.RuntimeJob'>\"):\n",
    "            if str(data_experiments[i][2].status()) == \"JobStatus.DONE\":\n",
    "                data_experiments[i][2] = data_experiments[i][2].result().quasi_dists[0]\n",
    "        \n",
    "        if (str(type(data_experiments[i][3])) == \"<class 'qiskit_ibm_runtime.runtime_job.RuntimeJob'>\"):\n",
    "            if str(data_experiments[i][3].status()) == \"JobStatus.DONE\":\n",
    "                data_experiments[i][3] = data_experiments[i][3].result().quasi_dists[0]\n",
    "            \n",
    "    return data_experiments"
   ]
  },
  {
   "cell_type": "code",
   "execution_count": 30,
   "id": "752d1950",
   "metadata": {},
   "outputs": [],
   "source": [
    "def get_data_experiments(list_experiments, shots):\n",
    "    data_experiments = []\n",
    "    for i in list_experiments:\n",
    "        data_experiments.append([])\n",
    "    \n",
    "    for i in range(len(list_experiments)):\n",
    "        state = list_experiments[i][0]\n",
    "        sizA = list_experiments[i][1]\n",
    "        sizB = list_experiments[i][2]\n",
    "        r = list_experiments[i][3]\n",
    "        \n",
    "        qCirc = createQuantumCirc(state, sizA, sizB, r)\n",
    "        print(\"Number of qubits is : \", qCirc.num_qubits)\n",
    "        \n",
    "        dic_noiseless = measOutcomes(qCirc, shots, 0).result().quasi_dists[0]\n",
    "        dic_shot_noise = measOutcomes(qCirc, shots, 1).result().quasi_dists[0]\n",
    "        dic_noisy_sim = measOutcomes(qCirc, shots, 2)\n",
    "        dic_quantum = measOutcomes(qCirc, shots, 3)\n",
    "        \n",
    "        #dic_noisy_sim and dic_quantum hold a JOB now. Not the distribution!!\n",
    "        data_experiments[i] = [dic_noiseless, dic_shot_noise, dic_noisy_sim, dic_quantum]\n",
    "    \n",
    "    return data_experiments"
   ]
  },
  {
   "cell_type": "code",
   "execution_count": 41,
   "id": "a3419817",
   "metadata": {},
   "outputs": [],
   "source": [
    "\"Define a list of quantum states to test Hamming weight. Need to do it this way to reduce queueing time.\"\n",
    "list_experiments = []\n",
    "list_names = [\"4-qubit-Bell-Bell-1-3-1\"]\n",
    "\n",
    "#1\n",
    "state = QuantumCircuit(4)\n",
    "state.h(0)\n",
    "state.cx(0, 1)\n",
    "state.h(2)\n",
    "state.cx(2, 3)\n",
    "list_experiments.append((state, 1, 3, 1))"
   ]
  },
  {
   "cell_type": "code",
   "execution_count": 42,
   "id": "4b15fa49",
   "metadata": {},
   "outputs": [
    {
     "name": "stdout",
     "output_type": "stream",
     "text": [
      "Number of qubits is :  10\n"
     ]
    }
   ],
   "source": [
    "data_experiments = get_data_experiments(list_experiments, 100000)"
   ]
  },
  {
   "cell_type": "code",
   "execution_count": 43,
   "id": "5612ed01",
   "metadata": {},
   "outputs": [
    {
     "name": "stdout",
     "output_type": "stream",
     "text": [
      "[[{0: 0.25, 3: 0.75}, {0: 0.24831, 3: 0.75169}, <RuntimeJob('cmujp636hm5j9l9srhl0', 'sampler')>, <RuntimeJob('cmujp6b6hm5j9l9srhm0', 'sampler')>]]\n"
     ]
    }
   ],
   "source": [
    "print(data_experiments)"
   ]
  },
  {
   "cell_type": "code",
   "execution_count": 53,
   "id": "698cd1b7",
   "metadata": {},
   "outputs": [
    {
     "name": "stdout",
     "output_type": "stream",
     "text": [
      "[[{0: 0.25, 3: 0.75}, {0: 0.24831, 3: 0.75169}, {0: 0.234940573603098, 1: 0.021426567437792, 2: 0.014613323712175, 3: 0.729019535246935}, {0: 0.14829250491295, 1: 0.355171101373237, 2: 0.145248204213773, 3: 0.35128818950004}]]\n"
     ]
    }
   ],
   "source": [
    "data_experiments = populate_dicts(data_experiments)\n",
    "print(data_experiments)"
   ]
  },
  {
   "cell_type": "code",
   "execution_count": 54,
   "id": "9be3ddeb",
   "metadata": {},
   "outputs": [],
   "source": [
    "for i in range(len(list_experiments)):\n",
    "    writeToFile(\"Schmidt Rank Data Files/\"+ list_names[i] +\".txt\", LB.name, list_experiments[i][0].qasm(), data_experiments[i])"
   ]
  },
  {
   "cell_type": "code",
   "execution_count": null,
   "id": "df705420",
   "metadata": {},
   "outputs": [],
   "source": []
  }
 ],
 "metadata": {
  "kernelspec": {
   "display_name": "Python 3",
   "language": "python",
   "name": "python3"
  },
  "language_info": {
   "codemirror_mode": {
    "name": "ipython",
    "version": 3
   },
   "file_extension": ".py",
   "mimetype": "text/x-python",
   "name": "python",
   "nbconvert_exporter": "python",
   "pygments_lexer": "ipython3",
   "version": "3.9.6"
  }
 },
 "nbformat": 4,
 "nbformat_minor": 5
}
