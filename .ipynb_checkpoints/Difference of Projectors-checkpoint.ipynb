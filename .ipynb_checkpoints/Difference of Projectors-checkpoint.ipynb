{
 "cells": [
  {
   "cell_type": "code",
   "execution_count": 2,
   "id": "0d4be473",
   "metadata": {},
   "outputs": [],
   "source": [
    "'''\n",
    "Import standard libraries.\n",
    "'''\n",
    "import math\n",
    "import random\n",
    "import numpy as np\n",
    "from itertools import product\n",
    "\n",
    "from qiskit import *\n",
    "from qiskit.tools.jupyter import *\n",
    "from qiskit.visualization import *\n",
    "from qiskit.providers.aer import QasmSimulator\n",
    "\n",
    "from toqito.perms import permute_systems\n",
    "from toqito.channels import partial_trace as pt\n",
    "\n",
    "from qiskit.quantum_info import Statevector\n",
    "from qiskit.quantum_info import DensityMatrix\n",
    "from qiskit.circuit.random import random_circuit\n",
    "from qiskit.providers.aer.noise import NoiseModel\n",
    "from qiskit.primitives import Sampler as prim_Sampler\n",
    "from qiskit.circuit.library.standard_gates import XGate\n",
    "\n",
    "from qiskit.utils import QuantumInstance\n",
    "from qiskit.providers.ibmq import least_busy\n",
    "from qiskit_ibm_runtime import QiskitRuntimeService\n",
    "from qiskit_ibm_runtime.fake_provider import FakeWashingtonV2\n",
    "\n",
    "from qiskit.primitives import Sampler as prim_Sampler\n",
    "from qiskit_ibm_runtime import Sampler as run_Sampler\n",
    "from qiskit_ibm_runtime import Session, Options\n",
    "\n",
    "from qiskit.providers.aer.noise import NoiseModel"
   ]
  },
  {
   "cell_type": "code",
   "execution_count": 8,
   "id": "b796580d",
   "metadata": {},
   "outputs": [
    {
     "data": {
      "text/plain": [
       "'\\nservice = QiskitRuntimeService()\\nservice.backends()\\n'"
      ]
     },
     "execution_count": 8,
     "metadata": {},
     "output_type": "execute_result"
    }
   ],
   "source": [
    "#Use QiskitRuntimeService() to get IBMQ backends.\n",
    "'''\n",
    "service = QiskitRuntimeService()\n",
    "service.backends()\n",
    "'''"
   ]
  },
  {
   "cell_type": "code",
   "execution_count": 9,
   "id": "12323ef1",
   "metadata": {},
   "outputs": [],
   "source": [
    "def calc_re_sq(A, rho, B):\n",
    "    '''\n",
    "    \\Vert \\operatorname{Re}(A \\rho B) \\Vert_2^2\n",
    "    '''\n",
    "    X = np.matmul(np.matmul(A, rho), B)\n",
    "    Xdag = X.conj().T\n",
    "    reX = 0.5*(X + Xdag)\n",
    "    calcValue = np.linalg.norm(reX)**2\n",
    "    return calcValue"
   ]
  },
  {
   "cell_type": "code",
   "execution_count": 10,
   "id": "ab74c449",
   "metadata": {},
   "outputs": [],
   "source": [
    "def get_true_val_lists(state, sizA, sizB, sizE, U):\n",
    "    '''\n",
    "    Get list of true values of all terms of the form calc_re_sq(P_i, rho, P_j),\n",
    "    where P_0 = Q and P_1 = P and U = P-Q.\n",
    "    Refer to Section 3D3.\n",
    "    '''\n",
    "    I = np.eye(2**(sizA + sizB))\n",
    "    backend = Aer.get_backend('unitary_simulator')\n",
    "    job = execute(U, backend)\n",
    "    result = job.result()\n",
    "    SWAP = result.get_unitary(U, decimals=3).data\n",
    "\n",
    "    P = 0.5*(I+SWAP)\n",
    "    Q = 0.5*(I-SWAP)\n",
    "    \n",
    "    psi_mat = np.array(DensityMatrix.from_instruction(state.reverse_bits()))\n",
    "    rho = pt(psi_mat, [3], [2**sizA, 2**sizB, 2**sizE])\n",
    "    \n",
    "    true_list = [calc_re_sq(Q, rho, Q), 2*calc_re_sq(Q, rho, P), 2*calc_re_sq(P, rho, Q), calc_re_sq(P, rho, P)]\n",
    "    \n",
    "    return true_list"
   ]
  },
  {
   "cell_type": "code",
   "execution_count": 11,
   "id": "0e9f58ba",
   "metadata": {},
   "outputs": [],
   "source": [
    "def get_exp_val_lists(dic):\n",
    "    '''\n",
    "    Get list of probabilities P(0ij) - P(1ij).\n",
    "    '''\n",
    "    lis = []\n",
    "    for i in range(8):\n",
    "        if i not in dic:\n",
    "            dic[i] = 0.0\n",
    "            \n",
    "    for i in range(4):\n",
    "        lis.append(dic[i]-dic[i+4])\n",
    "    return lis"
   ]
  },
  {
   "cell_type": "code",
   "execution_count": 12,
   "id": "aa3022ff",
   "metadata": {},
   "outputs": [],
   "source": [
    "def createQuantumCircuit(state, sizA, sizB, sizE, U):\n",
    "    '''\n",
    "    Creates quantum circuit to test for anti-symmetry of a k-qubit input state.\n",
    "    Refer to Section 3D3.\n",
    "    '''\n",
    "    circ = QuantumCircuit(3 + 2*(sizA + sizB + sizE), 3)\n",
    "    \n",
    "    A1reg = list(range(3, 3+sizA))\n",
    "    B1reg = list(range(3+sizA, 3+sizA+sizB))\n",
    "    E1reg = list(range(3+sizA+sizB, 3+sizA+sizB+sizE))\n",
    "    A2reg = list(range(3+sizA+sizB+sizE, 3+2*sizA+sizB+sizE))\n",
    "    B2reg = list(range(3+2*sizA+sizB+sizE, 3+2*sizA+2*sizB+sizE))\n",
    "    E2reg = list(range(3+2*sizA+2*sizB+sizE, 3+2*sizA+2*sizB+2*sizE))\n",
    "    \n",
    "    circ.append(state, A1reg+B1reg+E1reg)\n",
    "    circ.append(state, A2reg+B2reg+E2reg)\n",
    "    circ.h([0, 1, 2])\n",
    "    \n",
    "    circ = circ.compose(U.to_gate().control(1), [2]+A2reg+B2reg)\n",
    "    circ = circ.compose(U.to_gate().control(1), [1]+A1reg+B1reg)\n",
    "    \n",
    "    circ.z([1, 2])\n",
    "    circ.h([1, 2])\n",
    "        \n",
    "    for i in range(len(A1reg)):\n",
    "        circ.cswap(0, A1reg[i], A2reg[i])\n",
    "        \n",
    "    for i in range(len(B1reg)):\n",
    "        circ.cswap(0, B1reg[i], B2reg[i])\n",
    "\n",
    "    circ.cswap(0, 1, 2)\n",
    "    circ.h(0)\n",
    "    circ.barrier()\n",
    "    circ.measure([0, 1, 2], [2, 1, 0])\n",
    "    \n",
    "    return circ"
   ]
  },
  {
   "cell_type": "code",
   "execution_count": 13,
   "id": "3565e5ae",
   "metadata": {},
   "outputs": [],
   "source": [
    "def createWernerState(l):\n",
    "    '''\n",
    "    Create purification of Werner state with parameter l.\n",
    "    '''\n",
    "    theta2 = 2*np.arctan(np.sqrt((1+3*l)/(1-l)))\n",
    "    temp = np.sqrt(2)*np.cos(theta2/2)\n",
    "    theta1 = 2*np.arctan(1/temp)\n",
    "    \n",
    "    circ = QuantumCircuit(4)\n",
    "    circ.ry(theta1, [2])\n",
    "    circ.x(2)\n",
    "    circ.ch(2, 3)\n",
    "    circ.x(2)\n",
    "    circ.cry(theta2, 2, 3)\n",
    "    \n",
    "    circ.h(0)\n",
    "    circ.cx(0, 1)\n",
    "    \n",
    "    circ.cx(2, 1)\n",
    "    circ.cz(3, 1)\n",
    "    \n",
    "    return circ"
   ]
  },
  {
   "cell_type": "code",
   "execution_count": 14,
   "id": "65b309c0",
   "metadata": {},
   "outputs": [
    {
     "name": "stderr",
     "output_type": "stream",
     "text": [
      "/opt/anaconda3/envs/qiskit/lib/python3.9/site-packages/qiskit/visualization/circuit/matplotlib.py:266: FutureWarning: The default matplotlib drawer scheme will be changed to \"iqp\" in a following release. To silence this warning, specify the current default explicitly as style=\"clifford\", or the new default as style=\"iqp\".\n",
      "  self._style, def_font_ratio = load_style(self._style)\n"
     ]
    },
    {
     "data": {
      "image/png": "[encoded data removed]",
      "text/plain": [
       "<Figure size 370.906x200.667 with 1 Axes>"
      ]
     },
     "execution_count": 14,
     "metadata": {},
     "output_type": "execute_result"
    }
   ],
   "source": [
    "sizA = 1\n",
    "sizB = 1\n",
    "sizE = 0\n",
    "#state = createWernerState(0.1)\n",
    "state = random_circuit(sizA + sizB + sizE, 3)\n",
    "#state = QuantumCircuit(4)\n",
    "#state.h(0)\n",
    "#state.cx(0, 1)\n",
    "#state.h(2)\n",
    "#state.cx(2, 3)\n",
    "#state.x(2)\n",
    "\n",
    "U = QuantumCircuit(sizA + sizB)\n",
    "for i in range(sizA):\n",
    "    U.swap(i, i+sizA)\n",
    "    \n",
    "state.draw('mpl')"
   ]
  },
  {
   "cell_type": "code",
   "execution_count": 15,
   "id": "ac16454d",
   "metadata": {},
   "outputs": [
    {
     "data": {
      "image/png": "[encoded data removed]",
      "text/plain": [
       "<Figure size 1458.05x702.333 with 1 Axes>"
      ]
     },
     "execution_count": 15,
     "metadata": {},
     "output_type": "execute_result"
    }
   ],
   "source": [
    "qCirc = createQuantumCircuit(state, sizA, sizB, sizE, U)\n",
    "qCirc.draw('mpl')"
   ]
  },
  {
   "cell_type": "code",
   "execution_count": 16,
   "id": "a8949e72",
   "metadata": {},
   "outputs": [
    {
     "name": "stdout",
     "output_type": "stream",
     "text": [
      "[0.227588514333015, 0.2494738655849731, 0.2494738655849732, 0.2734637544970381]\n"
     ]
    }
   ],
   "source": [
    "sampler = prim_Sampler()\n",
    "dic = sampler.run(qCirc).result().quasi_dists[0]\n",
    "print(get_exp_val_lists(dic))"
   ]
  },
  {
   "cell_type": "code",
   "execution_count": 17,
   "id": "d0cdcb6b",
   "metadata": {},
   "outputs": [
    {
     "name": "stdout",
     "output_type": "stream",
     "text": [
      "[0.2275885143330152, 0.24947386558497336, 0.24947386558497336, 0.2734637544970383]\n"
     ]
    }
   ],
   "source": [
    "print(get_true_val_lists(state, sizA, sizB, sizE, U))"
   ]
  },
  {
   "cell_type": "code",
   "execution_count": 13,
   "id": "eb5f4ead",
   "metadata": {},
   "outputs": [],
   "source": [
    "def measOutcomes(qCirc, shots, choice = 0):\n",
    "    '''\n",
    "    Calculates the expectation value.\n",
    "    '''\n",
    "    if choice == 0: \n",
    "        sampler = prim_Sampler()\n",
    "        job = sampler.run(qCirc)\n",
    "        \n",
    "    elif choice == 1:\n",
    "        sampler = prim_Sampler()\n",
    "        job = sampler.run(qCirc, shots = shots)\n",
    "        \n",
    "    elif choice == 2:\n",
    "        fake_backend = FakeWashingtonV2()\n",
    "        noise_model = NoiseModel.from_backend(fake_backend)\n",
    "        options = Options()\n",
    "        options.simulator = {\n",
    "            \"noise_model\": noise_model,\n",
    "            \"seed_simulator\": 42\n",
    "        }\n",
    "        options.optimization_level = 3\n",
    "        options.resilience_level = 1\n",
    "        \n",
    "        sampler = run_Sampler(session=session1, options=options)\n",
    "        job = sampler.run(qCirc, shots=shots)\n",
    "        \n",
    "    elif choice == 3:\n",
    "        options = Options(optimization_level=3, resilience_level=1)\n",
    "        sampler = run_Sampler(session=session2, options=options)\n",
    "        job = sampler.run(qCirc, shots=shots)\n",
    "\n",
    "    return job"
   ]
  },
  {
   "cell_type": "code",
   "execution_count": 14,
   "id": "a395e5fd",
   "metadata": {},
   "outputs": [
    {
     "name": "stdout",
     "output_type": "stream",
     "text": [
      "<IBMBackend('ibm_brisbane')>\n"
     ]
    }
   ],
   "source": [
    "LB = least_busy(service.backends(filters=lambda x: x.configuration().n_qubits >= 20 and not x.configuration().simulator))\n",
    "print(LB)\n",
    "\n",
    "session1 = Session(service=service, backend=\"ibmq_qasm_simulator\")\n",
    "session2 = Session(service=service, backend=LB.name)"
   ]
  },
  {
   "cell_type": "code",
   "execution_count": 15,
   "id": "78e8e424",
   "metadata": {},
   "outputs": [],
   "source": [
    "def writeToFile(filename, qt_back_name, qasm, lis_exp):\n",
    "    '''\n",
    "    Write the data to a text file to be used to plot the data. The format is as follows:\n",
    "        1. QASM description of state preparation unitary\n",
    "        2. true_dist\n",
    "        3. dic_noiseless\n",
    "        4. dic_shot_noise\n",
    "        5. dic_noisy_sim\n",
    "        6. dic_quantum\n",
    "    '''\n",
    "    file = open(filename, \"w+\")\n",
    "    file.write(qasm)\n",
    "    for i in range(len(lis_exp)):\n",
    "        file.write(str(lis_exp[i]) + \"\\n\")\n",
    "    file.write(qt_back_name+\"\\n\")\n",
    "    file.close()"
   ]
  },
  {
   "cell_type": "code",
   "execution_count": 16,
   "id": "598e91a6",
   "metadata": {},
   "outputs": [],
   "source": [
    "def populate_dicts(data_experiments):\n",
    "    for i in range(len(data_experiments)):\n",
    "        if (str(type(data_experiments[i][3])) == \"<class 'qiskit_ibm_runtime.runtime_job.RuntimeJob'>\"):\n",
    "            if str(data_experiments[i][3].status()) == \"JobStatus.DONE\":\n",
    "                data_experiments[i][3] = get_exp_val_lists(data_experiments[i][3].result().quasi_dists[0])\n",
    "        \n",
    "        if (str(type(data_experiments[i][4])) == \"<class 'qiskit_ibm_runtime.runtime_job.RuntimeJob'>\"):\n",
    "            if str(data_experiments[i][4].status()) == \"JobStatus.DONE\":\n",
    "                data_experiments[i][4] = get_exp_val_lists(data_experiments[i][4].result().quasi_dists[0])\n",
    "            \n",
    "    return data_experiments"
   ]
  },
  {
   "cell_type": "code",
   "execution_count": 17,
   "id": "f26a109a",
   "metadata": {},
   "outputs": [],
   "source": [
    "def get_data_experiments(list_experiments, shots):\n",
    "    data_experiments = []\n",
    "    for i in list_experiments:\n",
    "        data_experiments.append([])\n",
    "    \n",
    "    for i in range(len(list_experiments)):\n",
    "        state = list_experiments[i][0]\n",
    "        sizA = list_experiments[i][1]\n",
    "        sizB = list_experiments[i][2]\n",
    "        sizE = list_experiments[i][3]\n",
    "        U = list_experiments[i][4]\n",
    "        \n",
    "        qCirc = createQuantumCircuit(state, sizA, sizB, sizE, U)\n",
    "        \n",
    "        true_dist = get_true_val_lists(state, sizA, sizB, sizE, U)\n",
    "        dic_noiseless = get_exp_val_lists(measOutcomes(qCirc, shots, 0).result().quasi_dists[0])\n",
    "        dic_shot_noise = get_exp_val_lists(measOutcomes(qCirc, shots, 1).result().quasi_dists[0])\n",
    "        dic_noisy_sim = measOutcomes(qCirc, shots, 2)\n",
    "        dic_quantum = measOutcomes(qCirc, shots, 3)\n",
    "        \n",
    "        #dic_noisy_sim and dic_quantum hold a JOB now. Not the distribution!!\n",
    "        data_experiments[i] = [true_dist, dic_noiseless, dic_shot_noise, dic_noisy_sim, dic_quantum]\n",
    "    \n",
    "    return data_experiments"
   ]
  },
  {
   "cell_type": "code",
   "execution_count": 18,
   "id": "cc85179a",
   "metadata": {},
   "outputs": [],
   "source": [
    "list_experiments = []\n",
    "list_names = [\"00-1-1-0-SWAP\", \"11-1-1-0-SWAP\"]\n",
    "\n",
    "#1\n",
    "state = QuantumCircuit(2)\n",
    "U = QuantumCircuit(2)\n",
    "U.swap(0, 1)\n",
    "list_experiments.append((state, 1, 1, 0, U))\n",
    "\n",
    "state = QuantumCircuit(2)\n",
    "state.x(0)\n",
    "state.x(1)\n",
    "U = QuantumCircuit(2)\n",
    "U.swap(0, 1)\n",
    "list_experiments.append((state, 1, 1, 0, U))"
   ]
  },
  {
   "cell_type": "code",
   "execution_count": 19,
   "id": "946ea210",
   "metadata": {},
   "outputs": [],
   "source": [
    "data_experiments = get_data_experiments(list_experiments, 100000)"
   ]
  },
  {
   "cell_type": "code",
   "execution_count": 21,
   "id": "d0677cfa",
   "metadata": {},
   "outputs": [
    {
     "name": "stdout",
     "output_type": "stream",
     "text": [
      "[[[0.0, 0.0, 0.0, 1.0], [0.0, 0.0, 0.0, 0.9999999999999992], [0.0, 0.0, 0.0, 1.0], [0.005128764035264721, 0.0010575071018465027, -0.00022888668765366077, 0.4941237251295837], [0.017572380626469215, 0.014197239238608675, -0.0017207457903092305, 0.074845617468351]], [[0.0, 0.0, 0.0, 1.0], [0.0, 0.0, 0.0, 0.9999999999999992], [0.0, 0.0, 0.0, 1.0], [0.005397482863780823, 0.00016783994138297453, 0.00044423655711381405, 0.4500290487973462], [0.01967865745311894, 0.012703947782138361, -0.01686689609865831, 0.023629295282778684]]]\n"
     ]
    }
   ],
   "source": [
    "data_experiments = populate_dicts(data_experiments)\n",
    "print(data_experiments)"
   ]
  },
  {
   "cell_type": "code",
   "execution_count": 22,
   "id": "15480cda",
   "metadata": {},
   "outputs": [],
   "source": [
    "for i in range(len(list_experiments)):\n",
    "    writeToFile(\"Diff Proj Data Files/\"+ list_names[i] +\".txt\", LB.name, list_experiments[i][0].qasm(), data_experiments[i])"
   ]
  },
  {
   "cell_type": "code",
   "execution_count": null,
   "id": "b5d93f5d",
   "metadata": {},
   "outputs": [],
   "source": []
  }
 ],
 "metadata": {
  "kernelspec": {
   "display_name": "Python 3",
   "language": "python",
   "name": "python3"
  },
  "language_info": {
   "codemirror_mode": {
    "name": "ipython",
    "version": 3
   },
   "file_extension": ".py",
   "mimetype": "text/x-python",
   "name": "python",
   "nbconvert_exporter": "python",
   "pygments_lexer": "ipython3",
   "version": "3.9.6"
  }
 },
 "nbformat": 4,
 "nbformat_minor": 5
}
